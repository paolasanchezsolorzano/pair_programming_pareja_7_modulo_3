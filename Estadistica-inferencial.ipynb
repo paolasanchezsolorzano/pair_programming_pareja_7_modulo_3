{
 "cells": [
  {
   "cell_type": "code",
   "execution_count": null,
   "metadata": {},
   "outputs": [],
   "source": [
    "#Pregunta 1\n",
    "#¿El tiempo que transcurre entre la llegada de autobuses a una parada sigue una distribución exponencial o de Poisson?\n",
    "\n",
    "#El tiempo que transcurre entre la llegada de autobuses a una para es una distribución exponencial porque es tiempo entre eventos (tiempo de espera)"
   ]
  },
  {
   "cell_type": "code",
   "execution_count": null,
   "metadata": {},
   "outputs": [],
   "source": [
    "# ¿El tiempo que transcurre entre la llegada de solicitudes de servicio en un restaurante sigue una distribución exponencial o de Poisson?\n",
    "\n",
    "#El tiempo que transcurre entre la llegada de solicitudes de servicios en un restaurante es una distrución de poisson."
   ]
  },
  {
   "cell_type": "code",
   "execution_count": null,
   "metadata": {},
   "outputs": [],
   "source": [
    "#¿El tiempo que transcurre entre la llegada de taxis en una parada sigue una distribución exponencial o de Poisson?\n",
    "\n",
    "#Exponecial porque el tiempo de espera hasta la llegada del taxi no es fija."
   ]
  },
  {
   "cell_type": "code",
   "execution_count": null,
   "metadata": {},
   "outputs": [],
   "source": [
    "#¿El número de errores de ortografía en un libro de texto sigue una distribución exponencial o de Poisson?\n",
    "\n",
    "#Poisson porque es una suma."
   ]
  },
  {
   "cell_type": "code",
   "execution_count": null,
   "metadata": {},
   "outputs": [],
   "source": [
    "# Ejercicios intervalo de confianza. Al igual que en el caso del ejercicio de la clase invertida, piensa un motivo por el que sería interesante calcular estos intervalos de confianza para la extracción de insights.\n",
    "\n",
    "# Intervalo de Confianza para la Esperanza de Vida\n",
    "\n",
    "# Contexto: Trabajas en una organización de salud global y deseas estimar el intervalo de confianza al 95% para la esperanza de vida promedio de cada continente.\n",
    "# Nota: Cuidado porque puede que os salgan algunos nulos, genera un código para que no salgan nulos en los intervalos de confianza.\n",
    "\n",
    "\n",
    "#En un intervalo de confianza para la esperanza de vida entre varios continentes, basandonos en los resultados obtenidos, se pueden valorar caracteristicas como alimentación, calidad de vida ....\n",
    "# para poder comparar los diferentes continentes y tomar decisiones politicas o de salud. Esta analisis nos permite ver las diferencias entre cada grupo."
   ]
  },
  {
   "cell_type": "code",
   "execution_count": 1,
   "metadata": {},
   "outputs": [
    {
     "ename": "AttributeError",
     "evalue": "'list' object has no attribute 'mean'",
     "output_type": "error",
     "traceback": [
      "\u001b[0;31m---------------------------------------------------------------------------\u001b[0m",
      "\u001b[0;31mAttributeError\u001b[0m                            Traceback (most recent call last)",
      "Cell \u001b[0;32mIn[1], line 12\u001b[0m\n\u001b[1;32m      9\u001b[0m \u001b[38;5;28;01mimport\u001b[39;00m \u001b[38;5;21;01mscipy\u001b[39;00m\u001b[38;5;21;01m.\u001b[39;00m\u001b[38;5;21;01mstats\u001b[39;00m \u001b[38;5;28;01mas\u001b[39;00m \u001b[38;5;21;01mstats\u001b[39;00m\n\u001b[1;32m     10\u001b[0m \u001b[38;5;28;01mimport\u001b[39;00m \u001b[38;5;21;01mnumpy\u001b[39;00m \u001b[38;5;28;01mas\u001b[39;00m \u001b[38;5;21;01mnp\u001b[39;00m\n\u001b[0;32m---> 12\u001b[0m media_pib \u001b[38;5;241m=\u001b[39m \u001b[43mdatos_pib\u001b[49m\u001b[38;5;241;43m.\u001b[39;49m\u001b[43mmean\u001b[49m() \u001b[38;5;66;03m#primero calculamos la media\u001b[39;00m\n\u001b[1;32m     13\u001b[0m standar_error \u001b[38;5;241m=\u001b[39m stats\u001b[38;5;241m.\u001b[39msem(datos_pib) \u001b[38;5;66;03m#y el error estándar\u001b[39;00m\n\u001b[1;32m     15\u001b[0m nivel_confianza \u001b[38;5;241m=\u001b[39m \u001b[38;5;241m0.90\u001b[39m\n",
      "\u001b[0;31mAttributeError\u001b[0m: 'list' object has no attribute 'mean'"
     ]
    }
   ],
   "source": [
    "# Intervalo de Confianza para el PIB\n",
    "\n",
    "# Contexto: Eres una economista y quieres calcular el intervalo de confianza al 90% para el Producto Interno Bruto (PIB) de los continentes.\n",
    "\n",
    "#Para hacer una análisis económica que nos permite valorar la confiabilidad de los datos y poder planificar las tendencias de economia de los continentes.\n",
    "\n",
    "datos_pib = [1500,1865,6748,1500,3500,4685]\n",
    "\n",
    "import scipy.stats as stats\n",
    "import numpy as np\n",
    "\n",
    "media_pib = datos_pib.mean() #primero calculamos la media\n",
    "standar_error = stats.sem(datos_pib) #y el error estándar\n",
    "\n",
    "nivel_confianza = 0.90\n",
    "grados_libertad = len(datos_pib) -1\n",
    "\n",
    "valor_critico = stats.t.ppf((nivel_confianza + 1)/2, df= grados_libertad)\n",
    "\n",
    "interval_confianza_inferior = media_pib - valor_critico * standar_error\n",
    "interval_confianza_superior = media_pib + valor_critico * standar_error\n",
    "\n",
    "print(f\"La media del PIB es: {np.round(media_pib),2}\")\n",
    "print(f\"El error estandar es: {np.round(standar_error),2}\")\n",
    "print(f\"El intervalo de confianza del 90% para el PIB es : {nivel_confianza}\")\n",
    "print(f\"El valor critico es : {np.round(valor_critico),2}\")\n",
    "\n",
    "print(f\"El intervalo de confianza inferior es : {np.round(interval_confianza_inferior),2}\")\n",
    "print(f\"El intervalo de confianza superior es : {np.round(interval_confianza_superior),2}\")"
   ]
  }
 ],
 "metadata": {
  "kernelspec": {
   "display_name": "Python 3",
   "language": "python",
   "name": "python3"
  },
  "language_info": {
   "codemirror_mode": {
    "name": "ipython",
    "version": 3
   },
   "file_extension": ".py",
   "mimetype": "text/x-python",
   "name": "python",
   "nbconvert_exporter": "python",
   "pygments_lexer": "ipython3",
   "version": "3.10.12"
  }
 },
 "nbformat": 4,
 "nbformat_minor": 2
}
